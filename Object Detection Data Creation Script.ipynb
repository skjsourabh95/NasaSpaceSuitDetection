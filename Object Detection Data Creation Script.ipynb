{
 "cells": [
  {
   "cell_type": "markdown",
   "id": "fad81c00",
   "metadata": {},
   "source": [
    "# Create custom COCO data set for image segmentation"
   ]
  },
  {
   "cell_type": "code",
   "execution_count": 6,
   "id": "97ceda75",
   "metadata": {},
   "outputs": [],
   "source": [
    "import os\n",
    "import numpy as np\n",
    "import cv2\n",
    "import matplotlib.pyplot as plt\n",
    "import os\n",
    "from PIL import Image,ImageDraw\n",
    "import json\n",
    "import glob\n",
    "import PIL.Image"
   ]
  },
  {
   "cell_type": "code",
   "execution_count": 25,
   "id": "32b54304",
   "metadata": {},
   "outputs": [],
   "source": [
    "# reading image annotations\n",
    "annotations ={}\n",
    "with open('train/images/annotations/truth2d.txt') as f:\n",
    "    for ind, line in enumerate(f):\n",
    "        itm = line.rstrip().split(',')\n",
    "        file = itm[0]\n",
    "        annot_suits = []\n",
    "        annot_joins = []\n",
    "        if len(itm)>1:\n",
    "            itm = \",\".join(itm[1:]).split('[')\n",
    "            annot_joins = [float(i) for i in itm[0].split(',') if i]\n",
    "            for iit in itm[1:]:\n",
    "                annot_temp =[]\n",
    "                for it in iit.split('('):\n",
    "                    if it:\n",
    "                        annot_temp.append(tuple(float(i) for i in it.replace(')',\"\").replace(']',\"\").split(\",\")))\n",
    "                annot_suits.append(annot_temp)\n",
    "                annotations[file] = {'joints':annot_joins,'suits':annot_suits}"
   ]
  },
  {
   "cell_type": "code",
   "execution_count": 26,
   "id": "c1920d99",
   "metadata": {},
   "outputs": [
    {
     "data": {
      "text/plain": [
       "83"
      ]
     },
     "execution_count": 26,
     "metadata": {},
     "output_type": "execute_result"
    }
   ],
   "source": [
    "len(annotations)"
   ]
  },
  {
   "cell_type": "code",
   "execution_count": 13,
   "id": "f9641a77",
   "metadata": {},
   "outputs": [],
   "source": [
    "anot_boxes = {}\n",
    "for key,value in annotations.items():\n",
    "    anot_boxes[key] = value['suits']"
   ]
  },
  {
   "cell_type": "code",
   "execution_count": 33,
   "id": "fcb6a24a",
   "metadata": {},
   "outputs": [],
   "source": [
    "def get_coordinates(suits):\n",
    "    coordinates = []\n",
    "    if suits:\n",
    "        for suit in suits:\n",
    "            temp = []\n",
    "            for coords in suit:\n",
    "                for c_x, c_y in zip(coords[0::2],coords[1::2]):\n",
    "                    temp.append([c_x,c_y])\n",
    "            coordinates.append(temp)\n",
    "    return coordinates"
   ]
  },
  {
   "cell_type": "code",
   "execution_count": 34,
   "id": "c438e025",
   "metadata": {
    "scrolled": true
   },
   "outputs": [],
   "source": [
    "def get_labelme_annotations(image_dir):\n",
    "    images =[]\n",
    "    if not os.path.exists('anots'):\n",
    "        os.mkdir('anots')\n",
    "    for image_type in ['*.png', '*.jpg']:\n",
    "        images.extend(glob.glob(os.path.join(image_dir,image_type)))\n",
    "    for num, img_path in enumerate(images):\n",
    "        image_key = img_path.split(os.sep)[-1]\n",
    "        img = cv2.imread(img_path,1)\n",
    "        height, width = img.shape[:2]\n",
    "        pointers = get_coordinates(anot_boxes.get(image_key,None))\n",
    "        if len(pointers) > 0:\n",
    "            label_me_obj = {\n",
    "                \"version\": \"4.0.0\",\n",
    "                \"flags\": {},\n",
    "                \"shapes\": []\n",
    "            }\n",
    "            label_me_obj[\"imagePath\"]= img_path\n",
    "            label_me_obj[\"imageData\"]= None\n",
    "            label_me_obj[\"imageHeight\"]= height\n",
    "            label_me_obj[\"imageWidth\"]= width\n",
    "            \n",
    "            for pointer in pointers:\n",
    "                shape = {\n",
    "                    \"label\": \"spacesuit\",\n",
    "                    \"points\": pointer,\n",
    "                    \"group_id\": None,\n",
    "                    \"shape_type\": \"polygon\",\n",
    "                    \"flags\": {}}\n",
    "                label_me_obj[\"shapes\"].append(shape)\n",
    "                \n",
    "            with open(os.path.join('anots','%s.json'%(image_key.split('.')[0])),'w') as fp:\n",
    "                json.dump(label_me_obj,fp)\n",
    "        else:\n",
    "            print(image_key,pointers)"
   ]
  },
  {
   "cell_type": "code",
   "execution_count": 44,
   "id": "c68bb00b",
   "metadata": {},
   "outputs": [],
   "source": [
    "class labelme2coco(object):\n",
    "    def __init__(self, labelme_json=[], save_json_path=\"./coco.json\"):\n",
    "        \"\"\"\n",
    "        :param labelme_json: the list of all labelme json file paths\n",
    "        :param save_json_path: the path to save new json\n",
    "        \"\"\"\n",
    "        self.labelme_json = labelme_json\n",
    "        self.save_json_path = save_json_path\n",
    "        self.images = []\n",
    "        self.categories = []\n",
    "        self.annotations = []\n",
    "        self.label = []\n",
    "        self.annID = 1\n",
    "        self.height = 0\n",
    "        self.width = 0\n",
    "\n",
    "        self.save_json()\n",
    "\n",
    "    def data_transfer(self):\n",
    "        for num, json_file in enumerate(self.labelme_json):\n",
    "            with open(json_file, \"r\") as fp:\n",
    "                data = json.load(fp)\n",
    "                self.images.append(self.image(data, num))\n",
    "                for shapes in data[\"shapes\"]:\n",
    "                    label = shapes[\"label\"].split(\"_\")\n",
    "                    if label not in self.label:\n",
    "                        self.label.append(label)\n",
    "                    points = shapes[\"points\"]\n",
    "                    self.annotations.append(self.annotation(points, label, num))\n",
    "                    self.annID += 1\n",
    "\n",
    "        # Sort all text labels so they are in the same order across data splits.\n",
    "        self.label.sort()\n",
    "        for label in self.label:\n",
    "            self.categories.append(self.category(label))\n",
    "        for annotation in self.annotations:\n",
    "            annotation[\"category_id\"] = self.getcatid(annotation[\"category_id\"])\n",
    "\n",
    "    def image(self, data, num):\n",
    "        image = {}\n",
    "        image[\"height\"] = data['imageHeight']\n",
    "        image[\"width\"] = data['imageWidth']\n",
    "        image[\"id\"] = num\n",
    "        image[\"file_name\"] = data[\"imagePath\"].split(os.sep)[-1]\n",
    "\n",
    "        self.height = image[\"height\"]\n",
    "        self.width = image[\"width\"]\n",
    "\n",
    "        return image\n",
    "\n",
    "    def category(self, label):\n",
    "        category = {}\n",
    "        category[\"supercategory\"] = label[0]\n",
    "        category[\"id\"] = len(self.categories)\n",
    "        category[\"name\"] = label[0]\n",
    "        return category\n",
    "\n",
    "    def annotation(self, points, label, num):\n",
    "        annotation = {}\n",
    "        contour = np.array(points)\n",
    "        x = contour[:, 0]\n",
    "        y = contour[:, 1]\n",
    "        area = 0.5 * np.abs(np.dot(x, np.roll(y, 1)) - np.dot(y, np.roll(x, 1)))\n",
    "        annotation[\"segmentation\"] = [list(np.asarray(points).flatten())]\n",
    "        annotation[\"iscrowd\"] = 0\n",
    "        annotation[\"area\"] = area\n",
    "        annotation[\"image_id\"] = num\n",
    "\n",
    "        annotation[\"bbox\"] = list(map(float, self.getbbox(points)))\n",
    "\n",
    "        annotation[\"category_id\"] = label[0]  # self.getcatid(label)\n",
    "        annotation[\"id\"] = self.annID\n",
    "        return annotation\n",
    "\n",
    "    def getcatid(self, label):\n",
    "        for category in self.categories:\n",
    "            if label == category[\"name\"]:\n",
    "                return category[\"id\"]\n",
    "        print(\"label: {} not in categories: {}.\".format(label, self.categories))\n",
    "        exit()\n",
    "        return -1\n",
    "\n",
    "    def getbbox(self, points):\n",
    "        polygons = points\n",
    "        mask = self.polygons_to_mask([self.height, self.width], polygons)\n",
    "        return self.mask2box(mask)\n",
    "\n",
    "    def mask2box(self, mask):\n",
    "\n",
    "        index = np.argwhere(mask == 1)\n",
    "        rows = index[:, 0]\n",
    "        clos = index[:, 1]\n",
    "\n",
    "        left_top_r = np.min(rows)  # y\n",
    "        left_top_c = np.min(clos)  # x\n",
    "\n",
    "        right_bottom_r = np.max(rows)\n",
    "        right_bottom_c = np.max(clos)\n",
    "\n",
    "        return [\n",
    "            left_top_c,\n",
    "            left_top_r,\n",
    "            right_bottom_c - left_top_c,\n",
    "            right_bottom_r - left_top_r,\n",
    "        ]\n",
    "\n",
    "    def polygons_to_mask(self, img_shape, polygons):\n",
    "        mask = np.zeros(img_shape, dtype=np.uint8)\n",
    "        mask = PIL.Image.fromarray(mask)\n",
    "        xy = list(map(tuple, polygons))\n",
    "        PIL.ImageDraw.Draw(mask).polygon(xy=xy, outline=1, fill=1)\n",
    "        mask = np.array(mask, dtype=bool)\n",
    "        return mask\n",
    "\n",
    "    def data2coco(self):\n",
    "        data_coco = {}\n",
    "        data_coco[\"images\"] = self.images\n",
    "        data_coco[\"categories\"] = self.categories\n",
    "        data_coco[\"annotations\"] = self.annotations\n",
    "        return data_coco\n",
    "\n",
    "    def save_json(self):\n",
    "        print(\"save coco json\")\n",
    "        self.data_transfer()\n",
    "        self.data_coco = self.data2coco()\n",
    "\n",
    "        print(self.save_json_path)\n",
    "        os.makedirs(\n",
    "            os.path.dirname(os.path.abspath(self.save_json_path)), exist_ok=True\n",
    "        )\n",
    "        json.dump(self.data_coco, open(self.save_json_path, \"w\"), indent=4)\n"
   ]
  },
  {
   "cell_type": "code",
   "execution_count": 36,
   "id": "f475cad0",
   "metadata": {},
   "outputs": [],
   "source": [
    "image_dir = 'train/images'"
   ]
  },
  {
   "cell_type": "code",
   "execution_count": 37,
   "id": "7b3fffb9",
   "metadata": {},
   "outputs": [
    {
     "name": "stdout",
     "output_type": "stream",
     "text": [
      "626913.jpg []\n",
      "952799.jpg []\n",
      "204037.jpg []\n"
     ]
    }
   ],
   "source": [
    "get_labelme_annotations(image_dir)"
   ]
  },
  {
   "cell_type": "code",
   "execution_count": 38,
   "id": "c77f74b9",
   "metadata": {},
   "outputs": [],
   "source": [
    "labelme_json = glob.glob(os.path.join('anots',\"*.json\"))"
   ]
  },
  {
   "cell_type": "code",
   "execution_count": 45,
   "id": "8be1dada",
   "metadata": {},
   "outputs": [
    {
     "name": "stdout",
     "output_type": "stream",
     "text": [
      "save coco json\n",
      "trainval.json\n"
     ]
    },
    {
     "data": {
      "text/plain": [
       "<__main__.labelme2coco at 0x1669b0cd0>"
      ]
     },
     "execution_count": 45,
     "metadata": {},
     "output_type": "execute_result"
    }
   ],
   "source": [
    "labelme2coco(labelme_json,'trainval.json')"
   ]
  },
  {
   "cell_type": "code",
   "execution_count": null,
   "id": "1d4e8520",
   "metadata": {},
   "outputs": [],
   "source": []
  }
 ],
 "metadata": {
  "kernelspec": {
   "display_name": "Python 3",
   "language": "python",
   "name": "python3"
  },
  "language_info": {
   "codemirror_mode": {
    "name": "ipython",
    "version": 3
   },
   "file_extension": ".py",
   "mimetype": "text/x-python",
   "name": "python",
   "nbconvert_exporter": "python",
   "pygments_lexer": "ipython3",
   "version": "3.8.11"
  }
 },
 "nbformat": 4,
 "nbformat_minor": 5
}
